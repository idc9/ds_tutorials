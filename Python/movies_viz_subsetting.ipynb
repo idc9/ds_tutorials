{
 "cells": [
  {
   "cell_type": "markdown",
   "metadata": {},
   "source": [
    "This tutorial will give you practice with \n",
    "\n",
    "- data visualization with `matplotlib`\n",
    "- data manipulation with `pandas`\n",
    "\n",
    "[Python for Data Analysis](http://www3.canisius.edu/~yany/python/Python4DataAnalysis.pdf) is a good Python reference. My favorite quick pandas resources is [Chris Albon's website](http://chrisalbon.com/). This [matplotlib](http://nbviewer.jupyter.org/github/ResearchComputing/Meetup-Fall-2013/blob/master/python/lecture_17_matplotlib.ipynb) tutorial is pretty decent. As always Google is your best friend, but here are some other python data science references\n",
    "\n",
    "- [10 minute intro to pandas](http://pandas.pydata.org/pandas-docs/stable/10min.html)\n",
    "\n",
    "- These three pandas tutorials from University of Colorado [1](http://nbviewer.jupyter.org/github/ResearchComputing/Meetup-Fall-2013/blob/master/python/lecture_10_pandas_introduction.ipynb), [2](http://nbviewer.jupyter.org/github/ResearchComputing/Meetup-Fall-2013/blob/master/python/lecture_11_pandas_adding_data.ipynb), [3](http://nbviewer.jupyter.org/github/ResearchComputing/Meetup-Fall-2013/blob/master/python/lecture_12_pandas_groupby.ipynb).\n",
    "\n",
    "- These [tutorials](http://wavedatalab.github.io/datawithpython/index.html) from python for data science.\n",
    "\n",
    "Pandas can be a little weird at first because there are several ways to subset the data and rows come with indexing.\n",
    "\n",
    "If you are already comfortable with `matplotlib` you might try the [seaborn](http://seaborn.pydata.org/index.html) package. \n"
   ]
  },
  {
   "cell_type": "code",
   "execution_count": 2,
   "metadata": {
    "collapsed": true
   },
   "outputs": [],
   "source": [
    "# these packages come with Anaconda\n",
    "import pandas as pd\n",
    "import numpy as np\n",
    "import matplotlib.pyplot as plt\n",
    "\n",
    "# this makes figures from matplotlib display in the notebook\n",
    "%matplotlib inline"
   ]
  },
  {
   "cell_type": "markdown",
   "metadata": {},
   "source": [
    "# The data\n",
    "\n",
    " The data include 651 randomly selected movies scraped from the IMDb and Rotten Tomatoes websites. The data were generously provided by Mine Cetinkaya-Rundel and you can find the original data set on [her website](http://www2.stat.duke.edu/~mc301/data/movies.html)."
   ]
  },
  {
   "cell_type": "code",
   "execution_count": 3,
   "metadata": {
    "collapsed": false
   },
   "outputs": [],
   "source": [
    "# read in the data set from Iain's github\n",
    "movies = pd.read_csv('https://raw.githubusercontent.com/idc9/stor390/master/data/movies.csv')\n",
    "\n",
    "# index by movie title\n",
    "movies = movies.set_index('title')\n",
    "\n",
    "movies.head()"
   ]
  },
  {
   "cell_type": "code",
   "execution_count": null,
   "metadata": {
    "collapsed": true
   },
   "outputs": [],
   "source": [
    "movies.columns"
   ]
  },
  {
   "cell_type": "markdown",
   "metadata": {
    "collapsed": true
   },
   "source": [
    "# Visualization\n",
    "\n",
    "Answer all the following questions with matplotlib i.e."
   ]
  },
  {
   "cell_type": "code",
   "execution_count": 8,
   "metadata": {
    "collapsed": false
   },
   "outputs": [
    {
     "data": {
      "text/plain": [
       "<matplotlib.text.Text at 0x11b4ad450>"
      ]
     },
     "execution_count": 8,
     "metadata": {},
     "output_type": "execute_result"
    },
    {
     "data": {
      "image/png": "[encoded data removed]",
      "text/plain": [
       "<matplotlib.figure.Figure at 0x11b468a10>"
      ]
     },
     "metadata": {},
     "output_type": "display_data"
    }
   ],
   "source": [
    "plt.scatter(movies['imdb_num_votes'], movies['imdb_rating'])\n",
    "\n",
    "# change axis labels\n",
    "plt.xlabel('number of votes')\n",
    "plt.ylabel('imdb rating')\n",
    "\n",
    "# set axis limits\n",
    "plt.xlim([0, max(movies['imdb_num_votes'])])\n",
    "plt.ylim([0, max(movies['imdb_rating'])])\n",
    "\n",
    "# add a title\n",
    "plt.title('number of votes vs. imdb rating')"
   ]
  },
  {
   "cell_type": "markdown",
   "metadata": {},
   "source": [
    "Make a histogram of **imdb_rating**."
   ]
  },
  {
   "cell_type": "code",
   "execution_count": null,
   "metadata": {
    "collapsed": true
   },
   "outputs": [],
   "source": []
  },
  {
   "cell_type": "markdown",
   "metadata": {},
   "source": [
    "Make the above histogram with 100 bins."
   ]
  },
  {
   "cell_type": "code",
   "execution_count": null,
   "metadata": {
    "collapsed": true
   },
   "outputs": [],
   "source": []
  },
  {
   "cell_type": "markdown",
   "metadata": {},
   "source": [
    "Make a scatter plot comparing Rotten Tomatoes critic score vs. imdb ratings. Change the x/y axis labels to something nicer and add a title."
   ]
  },
  {
   "cell_type": "code",
   "execution_count": null,
   "metadata": {
    "collapsed": true
   },
   "outputs": [],
   "source": []
  },
  {
   "cell_type": "markdown",
   "metadata": {},
   "source": [
    "(BONUS) Make the same rt vs. imdb scatter plot as above but facet by mpaa_ratings. (http://stackoverflow.com/questions/34762280/how-to-plot-facet-gridggplot-in-r-in-python)"
   ]
  },
  {
   "cell_type": "code",
   "execution_count": null,
   "metadata": {
    "collapsed": true
   },
   "outputs": [],
   "source": []
  },
  {
   "cell_type": "markdown",
   "metadata": {},
   "source": [
    "Again make the same rt vs. imdb scatter plot but color the points by mpaa_ratings."
   ]
  },
  {
   "cell_type": "code",
   "execution_count": null,
   "metadata": {
    "collapsed": true
   },
   "outputs": [],
   "source": []
  },
  {
   "cell_type": "markdown",
   "metadata": {},
   "source": [
    "One last time make the rt vs. imdb scatter plot but now try including runtime as a third variable using point\n",
    "- color\n",
    "- size\n",
    "- alpha\n",
    "\n",
    "Which one of these is “best”?"
   ]
  },
  {
   "cell_type": "markdown",
   "metadata": {},
   "source": [
    "# Data transformation"
   ]
  },
  {
   "cell_type": "markdown",
   "metadata": {},
   "source": [
    "Subset the columns of `movies` to keep the following variables: **runtime**, **genre**, **mpaa_rating**, **thtr_rel_year**, **imdb_rating**, **imdb_num_votes**, **critics_score**, **audience_score**, and **best_pic_win**. Make sure to update the movies data frame."
   ]
  },
  {
   "cell_type": "code",
   "execution_count": null,
   "metadata": {
    "collapsed": true
   },
   "outputs": [],
   "source": []
  },
  {
   "cell_type": "markdown",
   "metadata": {},
   "source": [
    "Compute the mean of each continuous variable. *Hint*: you'll have to deal with a missing value in **runtime**."
   ]
  },
  {
   "cell_type": "code",
   "execution_count": null,
   "metadata": {
    "collapsed": true
   },
   "outputs": [],
   "source": []
  },
  {
   "cell_type": "markdown",
   "metadata": {},
   "source": [
    "Which movie is missing the **runtime**?"
   ]
  },
  {
   "cell_type": "code",
   "execution_count": null,
   "metadata": {
    "collapsed": true
   },
   "outputs": [],
   "source": []
  },
  {
   "cell_type": "markdown",
   "metadata": {},
   "source": [
    "Google this filem ad manually add the runtime."
   ]
  },
  {
   "cell_type": "code",
   "execution_count": null,
   "metadata": {
    "collapsed": true
   },
   "outputs": [],
   "source": []
  },
  {
   "cell_type": "markdown",
   "metadata": {},
   "source": [
    "Compute the mean imdb rating for movies by genere. *Hint*: use [groupby](http://pandas.pydata.org/pandas-docs/stable/groupby.html)"
   ]
  },
  {
   "cell_type": "code",
   "execution_count": null,
   "metadata": {
    "collapsed": true
   },
   "outputs": [],
   "source": []
  },
  {
   "cell_type": "markdown",
   "metadata": {},
   "source": [
    "Similarly, compute the mean number of imdb votes for each mpaa_rating category then plot the mean ratings."
   ]
  },
  {
   "cell_type": "code",
   "execution_count": null,
   "metadata": {
    "collapsed": true
   },
   "outputs": [],
   "source": []
  },
  {
   "cell_type": "markdown",
   "metadata": {},
   "source": [
    "Compute the compare the average imdb rating of movies longer than 100 minutes to that of movies shorter than 100 minutes. The resulting printed out data frame should only have two columns."
   ]
  },
  {
   "cell_type": "code",
   "execution_count": null,
   "metadata": {
    "collapsed": true
   },
   "outputs": [],
   "source": []
  }
 ],
 "metadata": {
  "anaconda-cloud": {},
  "kernelspec": {
   "display_name": "Python [default]",
   "language": "python",
   "name": "python2"
  },
  "language_info": {
   "codemirror_mode": {
    "name": "ipython",
    "version": 2
   },
   "file_extension": ".py",
   "mimetype": "text/x-python",
   "name": "python",
   "nbconvert_exporter": "python",
   "pygments_lexer": "ipython2",
   "version": "2.7.12"
  }
 },
 "nbformat": 4,
 "nbformat_minor": 1
}
