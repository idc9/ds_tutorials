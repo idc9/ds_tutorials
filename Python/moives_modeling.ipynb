{
 "cells": [
  {
   "cell_type": "markdown",
   "metadata": {},
   "source": [
    "This tutorial will give you practice with statistical modeling. Specifically\n",
    "- test/training set\n",
    "- cross-validation\n",
    "- logistic regression\n",
    "- L1/L2 regularized logistic regression\n",
    "- Support Vector Machine\n",
    "- Kernel SVM\n",
    "- PCA\n",
    "\n",
    "[ISLR](http://www-bcf.usc.edu/~gareth/ISL/) is a good reference for all of these topics (4.3, 5.1, 6.2, 9.1-9.3, 10.2)\n",
    "\n",
    "**Prerequisites**: this tutorial assumes you are familiar with the above models (or are willing to learn about them). The questions are fairly independent so you can skip parts you don't like/understand. This tutorial also assumes you are familiar with pandas and numpy.\n",
    "\n",
    "This tutorial uses the following python packages (you should install them at the beginning)\n",
    "\n",
    "- [statsmodels](http://statsmodels.sourceforge.net/install.html)\n",
    "- a few packages that come with [anaconda](https://www.continuum.io/downloads): pandas, numpy, matplotlib, sklearn\n",
    "\n",
    "**Warning**: we are working with pandas data frames but most of the modeling packages (statsmodels and sklearn) do not take pandas data frames as input. You will have to figure out the right input format (usually a numpy array). "
   ]
  },
  {
   "cell_type": "code",
   "execution_count": 1,
   "metadata": {
    "collapsed": true
   },
   "outputs": [],
   "source": [
    "# these packages come with Anaconda\n",
    "import pandas as pd\n",
    "import numpy as np\n",
    "import matplotlib.pyplot as plt\n",
    "\n",
    "# this makes figures from matplotlib display in the notebook\n",
    "%matplotlib inline"
   ]
  },
  {
   "cell_type": "markdown",
   "metadata": {},
   "source": [
    "# The data\n",
    "\n",
    " The data include 651 randomly selected movies scraped from the IMDb and Rotten Tomatoes websites. The data were generously provided by Mine Cetinkaya-Rundel and you can find the original data set on [her website](http://www2.stat.duke.edu/~mc301/data/movies.html)."
   ]
  },
  {
   "cell_type": "code",
   "execution_count": 2,
   "metadata": {
    "collapsed": false
   },
   "outputs": [
    {
     "data": {
      "text/html": [
       "<div>\n",
       "<table border=\"1\" class=\"dataframe\">\n",
       "  <thead>\n",
       "    <tr style=\"text-align: right;\">\n",
       "      <th></th>\n",
       "      <th>title_type</th>\n",
       "      <th>genre</th>\n",
       "      <th>runtime</th>\n",
       "      <th>mpaa_rating</th>\n",
       "      <th>studio</th>\n",
       "      <th>thtr_rel_year</th>\n",
       "      <th>thtr_rel_month</th>\n",
       "      <th>thtr_rel_day</th>\n",
       "      <th>dvd_rel_year</th>\n",
       "      <th>dvd_rel_month</th>\n",
       "      <th>...</th>\n",
       "      <th>best_dir_win</th>\n",
       "      <th>top200_box</th>\n",
       "      <th>director</th>\n",
       "      <th>actor1</th>\n",
       "      <th>actor2</th>\n",
       "      <th>actor3</th>\n",
       "      <th>actor4</th>\n",
       "      <th>actor5</th>\n",
       "      <th>imdb_url</th>\n",
       "      <th>rt_url</th>\n",
       "    </tr>\n",
       "    <tr>\n",
       "      <th>title</th>\n",
       "      <th></th>\n",
       "      <th></th>\n",
       "      <th></th>\n",
       "      <th></th>\n",
       "      <th></th>\n",
       "      <th></th>\n",
       "      <th></th>\n",
       "      <th></th>\n",
       "      <th></th>\n",
       "      <th></th>\n",
       "      <th></th>\n",
       "      <th></th>\n",
       "      <th></th>\n",
       "      <th></th>\n",
       "      <th></th>\n",
       "      <th></th>\n",
       "      <th></th>\n",
       "      <th></th>\n",
       "      <th></th>\n",
       "      <th></th>\n",
       "      <th></th>\n",
       "    </tr>\n",
       "  </thead>\n",
       "  <tbody>\n",
       "    <tr>\n",
       "      <th>Filly Brown</th>\n",
       "      <td>Feature Film</td>\n",
       "      <td>Drama</td>\n",
       "      <td>80.0</td>\n",
       "      <td>R</td>\n",
       "      <td>Indomina Media Inc.</td>\n",
       "      <td>2013.0</td>\n",
       "      <td>4.0</td>\n",
       "      <td>19.0</td>\n",
       "      <td>2013.0</td>\n",
       "      <td>7.0</td>\n",
       "      <td>...</td>\n",
       "      <td>no</td>\n",
       "      <td>no</td>\n",
       "      <td>Michael D. Olmos</td>\n",
       "      <td>Gina Rodriguez</td>\n",
       "      <td>Jenni Rivera</td>\n",
       "      <td>Lou Diamond Phillips</td>\n",
       "      <td>Emilio Rivera</td>\n",
       "      <td>Joseph Julian Soria</td>\n",
       "      <td>http://www.imdb.com/title/tt1869425/</td>\n",
       "      <td>//www.rottentomatoes.com/m/filly_brown_2012/</td>\n",
       "    </tr>\n",
       "    <tr>\n",
       "      <th>The Dish</th>\n",
       "      <td>Feature Film</td>\n",
       "      <td>Drama</td>\n",
       "      <td>101.0</td>\n",
       "      <td>PG-13</td>\n",
       "      <td>Warner Bros. Pictures</td>\n",
       "      <td>2001.0</td>\n",
       "      <td>3.0</td>\n",
       "      <td>14.0</td>\n",
       "      <td>2001.0</td>\n",
       "      <td>8.0</td>\n",
       "      <td>...</td>\n",
       "      <td>no</td>\n",
       "      <td>no</td>\n",
       "      <td>Rob Sitch</td>\n",
       "      <td>Sam Neill</td>\n",
       "      <td>Kevin Harrington</td>\n",
       "      <td>Patrick Warburton</td>\n",
       "      <td>Tom Long</td>\n",
       "      <td>Genevieve Mooy</td>\n",
       "      <td>http://www.imdb.com/title/tt0205873/</td>\n",
       "      <td>//www.rottentomatoes.com/m/dish/</td>\n",
       "    </tr>\n",
       "    <tr>\n",
       "      <th>Waiting for Guffman</th>\n",
       "      <td>Feature Film</td>\n",
       "      <td>Comedy</td>\n",
       "      <td>84.0</td>\n",
       "      <td>R</td>\n",
       "      <td>Sony Pictures Classics</td>\n",
       "      <td>1996.0</td>\n",
       "      <td>8.0</td>\n",
       "      <td>21.0</td>\n",
       "      <td>2001.0</td>\n",
       "      <td>8.0</td>\n",
       "      <td>...</td>\n",
       "      <td>no</td>\n",
       "      <td>no</td>\n",
       "      <td>Christopher Guest</td>\n",
       "      <td>Christopher Guest</td>\n",
       "      <td>Catherine O'Hara</td>\n",
       "      <td>Parker Posey</td>\n",
       "      <td>Eugene Levy</td>\n",
       "      <td>Bob Balaban</td>\n",
       "      <td>http://www.imdb.com/title/tt0118111/</td>\n",
       "      <td>//www.rottentomatoes.com/m/waiting_for_guffman/</td>\n",
       "    </tr>\n",
       "    <tr>\n",
       "      <th>The Age of Innocence</th>\n",
       "      <td>Feature Film</td>\n",
       "      <td>Drama</td>\n",
       "      <td>139.0</td>\n",
       "      <td>PG</td>\n",
       "      <td>Columbia Pictures</td>\n",
       "      <td>1993.0</td>\n",
       "      <td>10.0</td>\n",
       "      <td>1.0</td>\n",
       "      <td>2001.0</td>\n",
       "      <td>11.0</td>\n",
       "      <td>...</td>\n",
       "      <td>yes</td>\n",
       "      <td>no</td>\n",
       "      <td>Martin Scorsese</td>\n",
       "      <td>Daniel Day-Lewis</td>\n",
       "      <td>Michelle Pfeiffer</td>\n",
       "      <td>Winona Ryder</td>\n",
       "      <td>Richard E. Grant</td>\n",
       "      <td>Alec McCowen</td>\n",
       "      <td>http://www.imdb.com/title/tt0106226/</td>\n",
       "      <td>//www.rottentomatoes.com/m/age_of_innocence/</td>\n",
       "    </tr>\n",
       "    <tr>\n",
       "      <th>Malevolence</th>\n",
       "      <td>Feature Film</td>\n",
       "      <td>Horror</td>\n",
       "      <td>90.0</td>\n",
       "      <td>R</td>\n",
       "      <td>Anchor Bay Entertainment</td>\n",
       "      <td>2004.0</td>\n",
       "      <td>9.0</td>\n",
       "      <td>10.0</td>\n",
       "      <td>2005.0</td>\n",
       "      <td>4.0</td>\n",
       "      <td>...</td>\n",
       "      <td>no</td>\n",
       "      <td>no</td>\n",
       "      <td>Stevan Mena</td>\n",
       "      <td>Samantha Dark</td>\n",
       "      <td>R. Brandon Johnson</td>\n",
       "      <td>Brandon Johnson</td>\n",
       "      <td>Heather Magee</td>\n",
       "      <td>Richard Glover</td>\n",
       "      <td>http://www.imdb.com/title/tt0388230/</td>\n",
       "      <td>//www.rottentomatoes.com/m/10004684-malevolence/</td>\n",
       "    </tr>\n",
       "  </tbody>\n",
       "</table>\n",
       "<p>5 rows × 31 columns</p>\n",
       "</div>"
      ],
      "text/plain": [
       "                        title_type   genre  runtime mpaa_rating  \\\n",
       "title                                                             \n",
       "Filly Brown           Feature Film   Drama     80.0           R   \n",
       "The Dish              Feature Film   Drama    101.0       PG-13   \n",
       "Waiting for Guffman   Feature Film  Comedy     84.0           R   \n",
       "The Age of Innocence  Feature Film   Drama    139.0          PG   \n",
       "Malevolence           Feature Film  Horror     90.0           R   \n",
       "\n",
       "                                        studio  thtr_rel_year  thtr_rel_month  \\\n",
       "title                                                                           \n",
       "Filly Brown                Indomina Media Inc.         2013.0             4.0   \n",
       "The Dish                 Warner Bros. Pictures         2001.0             3.0   \n",
       "Waiting for Guffman     Sony Pictures Classics         1996.0             8.0   \n",
       "The Age of Innocence         Columbia Pictures         1993.0            10.0   \n",
       "Malevolence           Anchor Bay Entertainment         2004.0             9.0   \n",
       "\n",
       "                      thtr_rel_day  dvd_rel_year  dvd_rel_month  \\\n",
       "title                                                             \n",
       "Filly Brown                   19.0        2013.0            7.0   \n",
       "The Dish                      14.0        2001.0            8.0   \n",
       "Waiting for Guffman           21.0        2001.0            8.0   \n",
       "The Age of Innocence           1.0        2001.0           11.0   \n",
       "Malevolence                   10.0        2005.0            4.0   \n",
       "\n",
       "                                            ...                         \\\n",
       "title                                       ...                          \n",
       "Filly Brown                                 ...                          \n",
       "The Dish                                    ...                          \n",
       "Waiting for Guffman                         ...                          \n",
       "The Age of Innocence                        ...                          \n",
       "Malevolence                                 ...                          \n",
       "\n",
       "                      best_dir_win  top200_box           director  \\\n",
       "title                                                               \n",
       "Filly Brown                     no          no   Michael D. Olmos   \n",
       "The Dish                        no          no          Rob Sitch   \n",
       "Waiting for Guffman             no          no  Christopher Guest   \n",
       "The Age of Innocence           yes          no    Martin Scorsese   \n",
       "Malevolence                     no          no        Stevan Mena   \n",
       "\n",
       "                                 actor1              actor2  \\\n",
       "title                                                         \n",
       "Filly Brown              Gina Rodriguez        Jenni Rivera   \n",
       "The Dish                      Sam Neill    Kevin Harrington   \n",
       "Waiting for Guffman   Christopher Guest    Catherine O'Hara   \n",
       "The Age of Innocence   Daniel Day-Lewis   Michelle Pfeiffer   \n",
       "Malevolence               Samantha Dark  R. Brandon Johnson   \n",
       "\n",
       "                                    actor3            actor4  \\\n",
       "title                                                          \n",
       "Filly Brown           Lou Diamond Phillips     Emilio Rivera   \n",
       "The Dish                 Patrick Warburton          Tom Long   \n",
       "Waiting for Guffman           Parker Posey       Eugene Levy   \n",
       "The Age of Innocence          Winona Ryder  Richard E. Grant   \n",
       "Malevolence                Brandon Johnson     Heather Magee   \n",
       "\n",
       "                                   actor5  \\\n",
       "title                                       \n",
       "Filly Brown           Joseph Julian Soria   \n",
       "The Dish                   Genevieve Mooy   \n",
       "Waiting for Guffman           Bob Balaban   \n",
       "The Age of Innocence         Alec McCowen   \n",
       "Malevolence                Richard Glover   \n",
       "\n",
       "                                                  imdb_url  \\\n",
       "title                                                        \n",
       "Filly Brown           http://www.imdb.com/title/tt1869425/   \n",
       "The Dish              http://www.imdb.com/title/tt0205873/   \n",
       "Waiting for Guffman   http://www.imdb.com/title/tt0118111/   \n",
       "The Age of Innocence  http://www.imdb.com/title/tt0106226/   \n",
       "Malevolence           http://www.imdb.com/title/tt0388230/   \n",
       "\n",
       "                                                                rt_url  \n",
       "title                                                                   \n",
       "Filly Brown               //www.rottentomatoes.com/m/filly_brown_2012/  \n",
       "The Dish                              //www.rottentomatoes.com/m/dish/  \n",
       "Waiting for Guffman    //www.rottentomatoes.com/m/waiting_for_guffman/  \n",
       "The Age of Innocence      //www.rottentomatoes.com/m/age_of_innocence/  \n",
       "Malevolence           //www.rottentomatoes.com/m/10004684-malevolence/  \n",
       "\n",
       "[5 rows x 31 columns]"
      ]
     },
     "execution_count": 2,
     "metadata": {},
     "output_type": "execute_result"
    }
   ],
   "source": [
    "# read in the data set from Iain's github\n",
    "movies = pd.read_csv('https://raw.githubusercontent.com/idc9/stor390/master/data/movies.csv')\n",
    "\n",
    "# index by movie title\n",
    "movies = movies.set_index('title')\n",
    "\n",
    "# add in a missing value\n",
    "movies.loc['The End of America', 'runtime'] = 73\n",
    "\n",
    "movies.head()"
   ]
  },
  {
   "cell_type": "code",
   "execution_count": 3,
   "metadata": {
    "collapsed": true
   },
   "outputs": [],
   "source": [
    "# Let's focus on a few columns\n",
    "movies = movies[['runtime','genre', 'mpaa_rating',\n",
    "                 'thtr_rel_year', 'imdb_rating', 'imdb_num_votes',\n",
    "                 'critics_score', 'audience_score', 'best_actor_win']]"
   ]
  },
  {
   "cell_type": "markdown",
   "metadata": {},
   "source": [
    "# Visualizing high dimensional data\n",
    "\n",
    "We can't visualize more than two or three dimensions at a time, but data typically come in much higher dimensions. One way to take a peak at high dimensional data is to make lots of one and two dimensional slices."
   ]
  },
  {
   "cell_type": "markdown",
   "metadata": {},
   "source": [
    "Make the plot described below for the following four variables: **audience_score**, **critics_score**, and **imdb_rating**. (See the [ggpairs function from GGally](http://ggobi.github.io/ggally/#columns_and_mapping) for a similar example).\n",
    "\n",
    "\n",
    "Make a 3 x 3 grid of plots. The diagonal should be a histogram (or KDE) of each variable. The off diagonal should be a scatter plot of the ith variable vs. the jth variable. You can make this grid \"upper diagonal\" (i.e. you don't need to plot i vs. j if you already have j vs. i).\n",
    "    "
   ]
  },
  {
   "cell_type": "code",
   "execution_count": null,
   "metadata": {
    "collapsed": true
   },
   "outputs": [],
   "source": []
  },
  {
   "cell_type": "markdown",
   "metadata": {},
   "source": [
    "Make the PC component plots. Get the data matrix X for the following 6 variables: **runtime**, **thtr_rel_year**, **imdb_num_votes**, **critics_score**, **audience_score**.\n",
    "\n",
    "Compute the PCA of X. First column center X and standardize the columns of X by the standard deviation. Then let X = U D V^T be the Singular Value Decomposition of X (use [numpy's SVD function](https://docs.scipy.org/doc/numpy/reference/generated/numpy.linalg.svd.html)). Let $U_k$ be the first k columns of the scores matrix U D (recall the columns are ordered by the increasing eigenvalues).\n",
    "\n",
    "Let k = 3. Make the above grid plot for for the scores (i.e. the 3 columns of $U_k$ are now the variables)."
   ]
  },
  {
   "cell_type": "code",
   "execution_count": null,
   "metadata": {
    "collapsed": true
   },
   "outputs": [],
   "source": []
  },
  {
   "cell_type": "markdown",
   "metadata": {},
   "source": [
    "# Inference task: how  factors are related to best actor winning an Oscar?\n",
    "\n"
   ]
  },
  {
   "cell_type": "markdown",
   "metadata": {},
   "source": [
    "Fit a simple logistic regression model **best_actor_win** ~ **imdb_rating**. Use the logistic regression function from [statsmodels](http://statsmodels.sourceforge.net/0.6.0/generated/statsmodels.discrete.discrete_model.Logit.html). \n",
    "\n",
    "What is the interpretation of the **imdb_rating** coefficient? \n",
    "\n",
    "(Bonus): make one of [these plots](http://www.cookbook-r.com/Statistical_analysis/Logistic_regression/) with **imdb_rating** on the x axis and the predicted probabilty on the y axis (including the data points)."
   ]
  },
  {
   "cell_type": "code",
   "execution_count": null,
   "metadata": {
    "collapsed": true
   },
   "outputs": [],
   "source": []
  },
  {
   "cell_type": "markdown",
   "metadata": {},
   "source": [
    "Again fit a logistic regression model, but this time include all of the covariates. *Hint*: You need to deal with categorical variables -- change these into dummy variables. \n",
    "\n",
    "Discuss what is the interpretation of these coefficients? Can we make any make any conclusions about causal ralationships? If not, how would you try to get at causation (i.e. study design)?"
   ]
  },
  {
   "cell_type": "markdown",
   "metadata": {},
   "source": [
    "# Prediction: what's the best model to predict whether or not the best actor will win an Oscar?\n",
    "\n",
    "The point of this section is to fit several models and compare them on a test set. Specifically we are ging to fit the following models\n",
    "\n",
    "- L1 regularized logistic regression\n",
    "- L2 regularized logistic regression\n",
    "- Support Vector Machine\n",
    "- Kernel Support Vector machine"
   ]
  },
  {
   "cell_type": "markdown",
   "metadata": {},
   "source": [
    "## turn the categorical variables into dummy variables\n",
    "\n",
    "*Hint*: pd.get_dummies. You data frame should only have *numbers* in it now."
   ]
  },
  {
   "cell_type": "code",
   "execution_count": null,
   "metadata": {
    "collapsed": true
   },
   "outputs": [],
   "source": []
  },
  {
   "cell_type": "markdown",
   "metadata": {},
   "source": [
    "## Make a test set\n",
    "\n",
    "Split the data into a training and test set (80% train, 20% test). Since the classes are fairly unbalanced you should use stratified sampling. Make two new data frames (called **train** and **test**).\n",
    "\n",
    "Fit all of the following models with the training data."
   ]
  },
  {
   "cell_type": "code",
   "execution_count": null,
   "metadata": {
    "collapsed": true
   },
   "outputs": [],
   "source": []
  },
  {
   "cell_type": "markdown",
   "metadata": {},
   "source": [
    "## Fit logistic regresssion with L2 regularization using cross-validation\n",
    "\n",
    "Use the [Logistic Regression](http://scikit-learn.org/stable/modules/generated/sklearn.linear_model.LogisticRegression.html) object from sklearn.\n"
   ]
  },
  {
   "cell_type": "code",
   "execution_count": 37,
   "metadata": {
    "collapsed": true
   },
   "outputs": [],
   "source": [
    "# parameters for cross validation\n",
    "K = 5\n",
    "C_values = [10 ** m for m in range(-3, 3, 1)]\n",
    "\n",
    "cv_error_matrix = np.zeros((K, len(C_values)))"
   ]
  },
  {
   "cell_type": "markdown",
   "metadata": {},
   "source": [
    "fill in the following code for cross-validation"
   ]
  },
  {
   "cell_type": "code",
   "execution_count": 39,
   "metadata": {
    "collapsed": false
   },
   "outputs": [],
   "source": [
    "for k in range(K):\n",
    "    # split into train/test folds\n",
    "    # train_cv = \n",
    "    # test_cv = \n",
    "    \n",
    "    for i in range(len(C_values)):\n",
    "        c = C_values[i]\n",
    "        \n",
    "        # fit logistic regression on train_cv with cost value c\n",
    "        # logreg_cv = \n",
    "        \n",
    "        # use logreg_cv to get the test set error on test_cv\n",
    "        # cv_err = \n",
    "        \n",
    "        # cv_error_matrix[k, i] = cv_err\n"
   ]
  },
  {
   "cell_type": "markdown",
   "metadata": {},
   "source": [
    "Plot the cv-error vs. C. Show each a scatter plot of each point and the mean cv error for each value of C. "
   ]
  },
  {
   "cell_type": "code",
   "execution_count": null,
   "metadata": {
    "collapsed": true
   },
   "outputs": [],
   "source": []
  },
  {
   "cell_type": "markdown",
   "metadata": {},
   "source": [
    "Decide on the best value of C. Now train the model on the full training data with the value of C that you settled on."
   ]
  },
  {
   "cell_type": "code",
   "execution_count": null,
   "metadata": {
    "collapsed": true
   },
   "outputs": [],
   "source": []
  },
  {
   "cell_type": "markdown",
   "metadata": {},
   "source": [
    "# Use cross validation to fit logistic regression with L1 regularization\n",
    "This should be mostly a matter of copying the above code.\n",
    "\n",
    "Compare the coefficients, $\\beta$ of L1 vs. L2 regularized logistic regression. What do you notice?"
   ]
  },
  {
   "cell_type": "code",
   "execution_count": null,
   "metadata": {
    "collapsed": true
   },
   "outputs": [],
   "source": []
  },
  {
   "cell_type": "markdown",
   "metadata": {},
   "source": [
    "# GridSearchCv example\n",
    "\n",
    "This time use the [GridSearchCV](http://scikit-learn.org/stable/modules/generated/sklearn.model_selection.GridSearchCV.html) function from sklearn. Here is some exmaple code."
   ]
  },
  {
   "cell_type": "code",
   "execution_count": 36,
   "metadata": {
    "collapsed": false
   },
   "outputs": [
    {
     "name": "stdout",
     "output_type": "stream",
     "text": [
      "Fitting 5 folds for each of 50 candidates, totalling 250 fits\n"
     ]
    },
    {
     "name": "stderr",
     "output_type": "stream",
     "text": [
      "[Parallel(n_jobs=1)]: Done 250 out of 250 | elapsed:    3.5s finished\n"
     ]
    }
   ],
   "source": [
    "from sklearn.svm import SVC\n",
    "from sklearn.model_selection import GridSearchCV # you might have to update sklearn\n",
    "\n",
    "# small example data set\n",
    "data = movies[['runtime', 'best_actor_win', 'imdb_rating']]\n",
    "\n",
    "# binarize best_actor_win\n",
    "data.loc[:, 'best_actor_win'] = movies.best_actor_win.eq(\"yes\").astype(int)\n",
    "\n",
    "# initialize the model\n",
    "svc = SVC()\n",
    "\n",
    "# cross validation parameters\n",
    "params = {\n",
    "    'C': [.01, .1, 1, 10, 100],\n",
    "    'gamma': list(np.arange(0, 1, .1)),\n",
    "    'kernel': ['rbf']\n",
    "}\n",
    "\n",
    "# initialize grid serach object\n",
    "gs_cv = GridSearchCV(estimator=svc, param_grid=params, cv=5, verbose=1)\n",
    "\n",
    "# fit the grid search. Notice the formats of each input!\n",
    "gs_results = gscv.fit(data[['runtime', 'imdb_rating']].as_matrix(),\n",
    "                      data['best_actor_win'].reshape(-1,))"
   ]
  },
  {
   "cell_type": "code",
   "execution_count": 37,
   "metadata": {
    "collapsed": false
   },
   "outputs": [
    {
     "data": {
      "text/plain": [
       "GridSearchCV(cv=5, error_score='raise',\n",
       "       estimator=SVC(C=1.0, cache_size=200, class_weight=None, coef0=0.0,\n",
       "  decision_function_shape=None, degree=3, gamma='auto', kernel='rbf',\n",
       "  max_iter=-1, probability=False, random_state=None, shrinking=True,\n",
       "  tol=0.001, verbose=False),\n",
       "       fit_params={}, iid=True, n_jobs=1,\n",
       "       param_grid={'kernel': ['rbf'], 'C': [0.01, 0.1, 1, 10, 100], 'gamma': [0.0, 0.10000000000000001, 0.20000000000000001, 0.30000000000000004, 0.40000000000000002, 0.5, 0.60000000000000009, 0.70000000000000007, 0.80000000000000004, 0.90000000000000002]},\n",
       "       pre_dispatch='2*n_jobs', refit=True, return_train_score=True,\n",
       "       scoring=None, verbose=1)"
      ]
     },
     "execution_count": 37,
     "metadata": {},
     "output_type": "execute_result"
    }
   ],
   "source": [
    "# now use the gs_results object to find the optimal values of the tuning parameters\n",
    "gs_results"
   ]
  },
  {
   "cell_type": "markdown",
   "metadata": {},
   "source": [
    "# Use GridSearchCV to tune linear SVM\n",
    "\n",
    "Use [LinearSVC](http://scikit-learn.org/stable/modules/generated/sklearn.svm.LinearSVC.html) from SKlearn"
   ]
  },
  {
   "cell_type": "code",
   "execution_count": null,
   "metadata": {
    "collapsed": true
   },
   "outputs": [],
   "source": []
  },
  {
   "cell_type": "markdown",
   "metadata": {},
   "source": [
    "# Use GridSearchCV to tune Kernel SVM \n",
    "\n",
    "Use the [SVC](http://scikit-learn.org/stable/modules/generated/sklearn.svm.SVC.html#sklearn.svm.SVC) function from sklearn.\n",
    "\n",
    "Try both a polynomial kernel ('poly') and a radial basis kernel ('rbf'). Use a range of C and gamma parameters."
   ]
  },
  {
   "cell_type": "code",
   "execution_count": null,
   "metadata": {
    "collapsed": true
   },
   "outputs": [],
   "source": []
  },
  {
   "cell_type": "code",
   "execution_count": null,
   "metadata": {
    "collapsed": true
   },
   "outputs": [],
   "source": []
  },
  {
   "cell_type": "code",
   "execution_count": null,
   "metadata": {
    "collapsed": true
   },
   "outputs": [],
   "source": []
  },
  {
   "cell_type": "markdown",
   "metadata": {},
   "source": [
    "# Compute the test error for each of the classifiers"
   ]
  },
  {
   "cell_type": "code",
   "execution_count": null,
   "metadata": {
    "collapsed": true
   },
   "outputs": [],
   "source": []
  }
 ],
 "metadata": {
  "anaconda-cloud": {},
  "kernelspec": {
   "display_name": "Python [default]",
   "language": "python",
   "name": "python2"
  },
  "language_info": {
   "codemirror_mode": {
    "name": "ipython",
    "version": 2
   },
   "file_extension": ".py",
   "mimetype": "text/x-python",
   "name": "python",
   "nbconvert_exporter": "python",
   "pygments_lexer": "ipython2",
   "version": "2.7.12"
  }
 },
 "nbformat": 4,
 "nbformat_minor": 1
}
